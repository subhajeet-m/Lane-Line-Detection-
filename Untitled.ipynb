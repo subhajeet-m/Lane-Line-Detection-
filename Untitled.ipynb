{
 "cells": [
  {
   "cell_type": "markdown",
   "id": "7c581f1f",
   "metadata": {},
   "source": [
    " Project: Lane Lines Detection using OpenCV:\n",
    "\n",
    "   In this project, We used Python and OpenCV to detect lane lines on the road. We developed a processing pipeline that    works on a  image, and applied the result to a video stream.\n",
    "\n",
    "\n",
    "# Pipeline architecture:\n",
    "    1.Load test images.\n",
    "    2.Apply Color Selection\n",
    "    3.Apply Canny edge detection.\n",
    "    4.Apply gray scaling to the images.\n",
    "    5.Apply Gaussian smoothing.\n",
    "    6.Perform Canny edge detection.\n",
    "    7.Determine the region of interest.\n",
    "    8.Apply Hough transform.\n",
    "    9.Average and extrapolating the lane lines.\n",
    "    10.Apply on video streams.\n",
    "\n",
    "\n",
    "   # Environment:\n",
    "    1.Windows 10\n",
    "    2.Python 3.10\n",
    "    3.OpenCV 4.7.0.68"
   ]
  },
  {
   "cell_type": "code",
   "execution_count": 1,
   "id": "2af04fb8",
   "metadata": {},
   "outputs": [],
   "source": [
    "import numpy as np\n",
    "import pandas as pd\n",
    "import cv2\n",
    "import matplotlib.pyplot as plt"
   ]
  },
  {
   "cell_type": "markdown",
   "id": "142f77ab",
   "metadata": {},
   "source": [
    "# Ignore Warnings\n",
    "\n",
    "This library helps us to ignore any unwanted warnings that might affect the neatness of the code"
   ]
  },
  {
   "cell_type": "code",
   "execution_count": 2,
   "id": "5abd6087",
   "metadata": {},
   "outputs": [],
   "source": [
    "import warnings\n",
    "warnings.filterwarnings('ignore')"
   ]
  },
  {
   "cell_type": "markdown",
   "id": "03511039",
   "metadata": {},
   "source": [
    "# Making Coordinates of The Lane Lines\n",
    "\n",
    "In this function, we are trying to set the left and right lines upto 3/5th of the image window. We are returning the coordinates of the lane lines as a numpy array, which is then accepted by the next function"
   ]
  },
  {
   "cell_type": "code",
   "execution_count": 3,
   "id": "5a9fabb6",
   "metadata": {},
   "outputs": [],
   "source": [
    "def coordinates(image, line_parameters):\n",
    "    try:\n",
    "        slope, intercept=line_parameters\n",
    "    except TypeError:\n",
    "        slope, intercept = 0.001, 0\n",
    "    y1=image.shape[0]\n",
    "    y2=int(y1*(3/5))\n",
    "    x1=int((y1-intercept)//slope)\n",
    "    x2=int((y2-intercept)//slope)\n",
    "    return np.array([x1,y1,x2,y2])"
   ]
  },
  {
   "cell_type": "markdown",
   "id": "8268f233",
   "metadata": {},
   "source": [
    "# Average Slope and Intercept\n",
    "\n",
    "We have multiple lines detected for each lane. We need to average all these lines and draw a single line for each lane.\n",
    "We also need to extrapolate the lane lines to cover the full lane line length"
   ]
  },
  {
   "cell_type": "code",
   "execution_count": 4,
   "id": "55894050",
   "metadata": {},
   "outputs": [],
   "source": [
    "def avg_slope_intercept(image, lines):\n",
    "    left_fit=[]\n",
    "    right_fit=[]\n",
    "    for line in lines:\n",
    "        x1, y1, x2, y2 = line.reshape(4)\n",
    "        parameters = np.polyfit((x1,x2), (y1, y2), 1)\n",
    "        slope=parameters[0]\n",
    "        intercept=parameters[1]\n",
    "        if slope<0:\n",
    "            left_fit.append((slope, intercept))\n",
    "        else:\n",
    "            right_fit.append((slope, intercept))\n",
    "    left_fit_avg=np.average(left_fit, axis=0)\n",
    "    right_fit_avg=np.average(right_fit, axis=0)\n",
    "    left_line=coordinates(image, left_fit_avg)\n",
    "    right_line=coordinates(image, right_fit_avg)\n",
    "    return np.array([left_line, right_line])"
   ]
  },
  {
   "cell_type": "markdown",
   "id": "fea7ee61",
   "metadata": {},
   "source": [
    "# Gray Scaling\n",
    "\n",
    "The Canny edge detection algorithm measures the intensity gradients of each pixel. So, we need to convert the images into gray scale in order to detect edges.\n",
    "\n",
    "# Applying Gaussian Blur\n",
    "\n",
    "Since all edge detection results are easily affected by image noise, it is essential to filter out the noise to prevent false detection caused by noise. To smooth the image, a Gaussian filter is applied to convolve with the image. This step will slightly smooth the image to reduce the effects of obvious noise on the edge detector.\n",
    "\n",
    "# Canny Edge Detection\n",
    "\n",
    "The Process of Canny edge detection algorithm can be broken down to 5 different steps:\n",
    "1. Find the intensity gradients of the image\n",
    "2. Apply non-maximum suppression to get rid of spurious response to edge detection.\n",
    "3. Apply double threshold to determine potential edges.\n",
    "4. Track edge by hysteresis: Finalize the detection of edges by suppressing all the other edges that are weak and not connected to strong edges."
   ]
  },
  {
   "cell_type": "code",
   "execution_count": 5,
   "id": "4140c703",
   "metadata": {},
   "outputs": [],
   "source": [
    "def canny(image):\n",
    "    gray=cv2.cvtColor(image, cv2.COLOR_RGB2GRAY)\n",
    "    blur=cv2.GaussianBlur(gray, (5,5), 0)\n",
    "    canny=cv2.Canny(blur, 50, 150)\n",
    "    return canny"
   ]
  },
  {
   "cell_type": "markdown",
   "id": "c855b362",
   "metadata": {},
   "source": [
    "# Displaying Lane Lines\n",
    "\n",
    "In this function, we are displaying the lane lines in a blue color on a black mask of the same dimensions as the original image."
   ]
  },
  {
   "cell_type": "code",
   "execution_count": 6,
   "id": "80d07960",
   "metadata": {},
   "outputs": [],
   "source": [
    "def line_display(image, lines):\n",
    "    line_img=np.zeros_like(image)\n",
    "    if lines is not None:\n",
    "        for x1, y1, x2, y2 in lines:\n",
    "            cv2.line(line_img, (x1,y1), (x2,y2), (255,0,0), 10)\n",
    "    return line_img"
   ]
  },
  {
   "cell_type": "markdown",
   "id": "9eaffefd",
   "metadata": {},
   "source": [
    "# Finding the Region of Interest\n",
    "\n",
    "We're interested in the area facing the camera, where the lane lines are found. So, we'll apply region masking to cut out everything else."
   ]
  },
  {
   "cell_type": "code",
   "execution_count": 7,
   "id": "1ecb13a6",
   "metadata": {},
   "outputs": [],
   "source": [
    "def outline(image):\n",
    "    height=image.shape[0]\n",
    "    polygons=np.array([\n",
    "        [(10, 500), (950,500), (500,320)]\n",
    "    ])\n",
    "    mask=np.zeros_like(image)\n",
    "    cv2.fillPoly(mask, polygons, 255)\n",
    "    masked_image=cv2.bitwise_and(image, mask)\n",
    "    return masked_image"
   ]
  },
  {
   "cell_type": "markdown",
   "id": "b179a4b1",
   "metadata": {},
   "source": [
    "# Hough Transform\n",
    "\n",
    "In the main function, we are applying Hough Transform on the cropped image containing the region of interest. This algorithm detects all the lines that can pass through certain coordinates and put those lines in a grid(which is a 2D numpy array). The grid with the most votes, gets selected as the appropriate line. Here, we have set the minimum votes required as 100 and the angle that each line's normal makes with the X-axis as 1 rad. The lines generated by this algorithm are then passed to the avg_slope_intercept() function.\n",
    "\n",
    "# Applying on Video Stream\n",
    "\n",
    "We apply the above created functions on a video stream. We extract each frame from the video and pass it to the functions, in the same way as the test images."
   ]
  },
  {
   "cell_type": "code",
   "execution_count": 8,
   "id": "43a0bc33",
   "metadata": {},
   "outputs": [],
   "source": [
    "cap = cv2.VideoCapture(\"test_video.mp4\")\n",
    "while(cap.isOpened()):\n",
    "    _, frame= cap.read()\n",
    "    if frame is not None:\n",
    "        canny_image=canny(frame)\n",
    "        cropped_image=outline(canny_image)\n",
    "        lines=cv2.HoughLinesP(cropped_image, 2, np.pi/180, 100, np.array([]), minLineLength=40, maxLineGap=5)\n",
    "        avg_line=avg_slope_intercept(frame, lines)\n",
    "        line_image=line_display(frame, avg_line)\n",
    "        combo_image=cv2.addWeighted(frame, 0.8, line_image, 1, 1) \n",
    "        cv2.imshow('result', combo_image)\n",
    "    if cv2.waitKey(27) == ord('a'):\n",
    "        break\n",
    "cap.release()\n",
    "cv2.destroyAllWindows()"
   ]
  },
  {
   "cell_type": "code",
   "execution_count": null,
   "id": "8d6403b8",
   "metadata": {},
   "outputs": [],
   "source": []
  }
 ],
 "metadata": {
  "kernelspec": {
   "display_name": "Python 3 (ipykernel)",
   "language": "python",
   "name": "python3"
  },
  "language_info": {
   "codemirror_mode": {
    "name": "ipython",
    "version": 3
   },
   "file_extension": ".py",
   "mimetype": "text/x-python",
   "name": "python",
   "nbconvert_exporter": "python",
   "pygments_lexer": "ipython3",
   "version": "3.10.5"
  }
 },
 "nbformat": 4,
 "nbformat_minor": 5
}
